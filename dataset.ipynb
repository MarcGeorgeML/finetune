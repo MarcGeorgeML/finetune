{
 "cells": [
  {
   "cell_type": "code",
   "execution_count": 4,
   "id": "3bd5fd5b",
   "metadata": {},
   "outputs": [],
   "source": [
    "from datasets import load_dataset\n",
    "import json\n",
    "import random\n",
    "from itertools import islice"
   ]
  },
  {
   "cell_type": "code",
   "execution_count": 5,
   "id": "493da7ea",
   "metadata": {},
   "outputs": [],
   "source": [
    "\n",
    "# Load dataset (arXiv split)\n",
    "# Load the streaming dataset\n",
    "dataset_stream = load_dataset(\n",
    "    \"armanc/scientific_papers\", name=\"arxiv\", trust_remote_code=True, streaming=True\n",
    ")\n",
    "\n",
    "# Convert streaming generator to a list of N items (e.g. 10,000)\n",
    "buffered = list(islice(dataset_stream[\"train\"], 5000))  # Read a bit more for random sampling\n",
    "\n",
    "# Randomly select 5,000 samples\n",
    "subset = random.sample(buffered, 2500)\n",
    "\n",
    "# Format into chat-style messages\n",
    "formatted_data = []"
   ]
  },
  {
   "cell_type": "code",
   "execution_count": 9,
   "id": "f471f51c",
   "metadata": {},
   "outputs": [
    {
     "data": {
      "text/plain": [
       "(2500, 3)"
      ]
     },
     "execution_count": 9,
     "metadata": {},
     "output_type": "execute_result"
    }
   ],
   "source": [
    "import pandas as pd\n",
    "\n",
    "# Convert to DataFrame for easier manipulation\n",
    "df = pd.DataFrame(subset)\n",
    "df.shape"
   ]
  },
  {
   "cell_type": "code",
   "execution_count": 17,
   "id": "a7082970",
   "metadata": {},
   "outputs": [
    {
     "data": {
      "text/html": [
       "<div>\n",
       "<style scoped>\n",
       "    .dataframe tbody tr th:only-of-type {\n",
       "        vertical-align: middle;\n",
       "    }\n",
       "\n",
       "    .dataframe tbody tr th {\n",
       "        vertical-align: top;\n",
       "    }\n",
       "\n",
       "    .dataframe thead th {\n",
       "        text-align: right;\n",
       "    }\n",
       "</style>\n",
       "<table border=\"1\" class=\"dataframe\">\n",
       "  <thead>\n",
       "    <tr style=\"text-align: right;\">\n",
       "      <th></th>\n",
       "      <th>article</th>\n",
       "      <th>abstract</th>\n",
       "      <th>section_names</th>\n",
       "    </tr>\n",
       "  </thead>\n",
       "  <tbody>\n",
       "    <tr>\n",
       "      <th>0</th>\n",
       "      <td>weak decays of charmed and beautiful hadrons a...</td>\n",
       "      <td>@xmath0 decay is studied in the effective the...</td>\n",
       "      <td>introduction\\nb @xmath9 decay matrix element\\n...</td>\n",
       "    </tr>\n",
       "    <tr>\n",
       "      <th>1</th>\n",
       "      <td>light bridges ( lbs ) are bright structures in...</td>\n",
       "      <td>we report the discovery of supersonic downflo...</td>\n",
       "      <td>introduction\\nobservations\\nresults\\nsummary a...</td>\n",
       "    </tr>\n",
       "    <tr>\n",
       "      <th>2</th>\n",
       "      <td>the spin-1/2 of a single electron trapped in a...</td>\n",
       "      <td>we study the two - qubit controlled - not gat...</td>\n",
       "      <td>introduction\\nmodel\\nstrong bias\\ngeneral bias...</td>\n",
       "    </tr>\n",
       "    <tr>\n",
       "      <th>3</th>\n",
       "      <td>structural multi - factor _ economic capital _...</td>\n",
       "      <td>a simple , yet reasonably accurate , analytic...</td>\n",
       "      <td>introduction\\nbackground\\nkiss model\\nbenchmar...</td>\n",
       "    </tr>\n",
       "    <tr>\n",
       "      <th>4</th>\n",
       "      <td>for tricritical phenomena , the highest dimens...</td>\n",
       "      <td>monte carlo simulations are used to investiga...</td>\n",
       "      <td>introduction\\nbackground\\nresults\\nconclusions</td>\n",
       "    </tr>\n",
       "  </tbody>\n",
       "</table>\n",
       "</div>"
      ],
      "text/plain": [
       "                                             article  \\\n",
       "0  weak decays of charmed and beautiful hadrons a...   \n",
       "1  light bridges ( lbs ) are bright structures in...   \n",
       "2  the spin-1/2 of a single electron trapped in a...   \n",
       "3  structural multi - factor _ economic capital _...   \n",
       "4  for tricritical phenomena , the highest dimens...   \n",
       "\n",
       "                                            abstract  \\\n",
       "0   @xmath0 decay is studied in the effective the...   \n",
       "1   we report the discovery of supersonic downflo...   \n",
       "2   we study the two - qubit controlled - not gat...   \n",
       "3   a simple , yet reasonably accurate , analytic...   \n",
       "4   monte carlo simulations are used to investiga...   \n",
       "\n",
       "                                       section_names  \n",
       "0  introduction\\nb @xmath9 decay matrix element\\n...  \n",
       "1  introduction\\nobservations\\nresults\\nsummary a...  \n",
       "2  introduction\\nmodel\\nstrong bias\\ngeneral bias...  \n",
       "3  introduction\\nbackground\\nkiss model\\nbenchmar...  \n",
       "4     introduction\\nbackground\\nresults\\nconclusions  "
      ]
     },
     "execution_count": 17,
     "metadata": {},
     "output_type": "execute_result"
    }
   ],
   "source": [
    "df.head()"
   ]
  },
  {
   "cell_type": "code",
   "execution_count": 12,
   "id": "0005d8de",
   "metadata": {},
   "outputs": [],
   "source": [
    "for example in subset:\n",
    "    input_text = example[\"article\"]\n",
    "    summary = example[\"abstract\"]\n",
    "\n",
    "    # Optional trimming of input if it's too long\n",
    "    if len(input_text) > 3000:\n",
    "        input_text = input_text[:3000] + \"...\"\n",
    "\n",
    "    messages = [\n",
    "        {\n",
    "            \"role\": \"system\",\n",
    "            \"content\": \"You are a helpful research assistant that summarizes scientific papers.\"\n",
    "        },\n",
    "        {\n",
    "            \"role\": \"user\",\n",
    "            \"content\": f\"Summarize the following research paper:\\n\\n{input_text}\"\n",
    "        },\n",
    "        {\n",
    "            \"role\": \"assistant\",\n",
    "            \"content\": summary.strip()\n",
    "        }\n",
    "    ]\n",
    "\n",
    "    formatted_data.append({\"messages\": messages})\n"
   ]
  },
  {
   "cell_type": "code",
   "execution_count": 14,
   "id": "4c6fed2b",
   "metadata": {},
   "outputs": [
    {
     "name": "stdout",
     "output_type": "stream",
     "text": [
      "[{'messages': [{'role': 'system', 'content': 'You are a helpful research assistant that summarizes scientific papers.'}, {'role': 'user', 'content': \"Summarize the following research paper:\\n\\nweak decays of charmed and beautiful hadrons are quite favorable in particle physics because of their usage in determining fundamental parameters of the standard model and testing various theories and models . among these heavy hadron decays the semileptonic decays @xmath4 and @xmath5 have been observed experimentally .\\nthese exclusive decays provide one of the main channels to determine the important ckm matrix element @xmath1 .\\nthe difficulty in studying @xmath6 and @xmath5 decays mainly concerns the calculation of the relevant hadronic matrix elements of weak operators , or , equivalently , the corresponding form factors which contain nonperturbative contributions as well as perturbative ones and are beyond the power of pure qcd perturbation theory . up to present these form factors are usually evaluated from lattice calculations , qcd sum rules and some hadronic models .\\nsum rule method has been applied to @xmath7 decay in the full qcd and provided reasonable results@xcite .\\nsince the meson b contains a single heavy quark , it is expected that its exclusive decays into light mesons may also be understood well in the effective theory of heavy quark , which explicitly demonstrates the heavy quark spin - flavor symmetry and its breaking effects can systematically be evaluated via the power of inverse heavy quark mass @xmath8 .\\nthe effective theory of heavy quark has been widely applied to heavy hadron systems , such as b decays into heavy hadrons via both exclusive and inclusive decay modes .\\nthere are two different versions of effective theory of heavy quark .\\none is the heavy quark effective theory ( hqet ) , which generally decouples the `` quark fields '' and `` antiquark fields '' and treats one of them independently .\\nthis treatment is only valid when taking the heavy quark mass to be infinite . in the real world , mass of quark must be finite , thus one should keep in the effective lagrangian both the effective quark and effective antiquark fields .\\nbased on this consideration , a heavy quark effective field theory ( hqeft ) @xcite has been established and investigated with including the effects of the mixing terms between quark and antiquark fields .\\nits applications to the pair annihilation and creation have also been studied in the literature@xcite .\\nthough the hqeft explicitly deviate from hqet from the next - to - leading order , these two formulations of effective theory trivially coincide with each other at the infinite heavy quark mass limit . in our knowledge the exclusive heavy to light ( pseudoscalar ) decay channels have been discussed in @xcite , where the matrix elements in the effective theory have been formulated , but the two leading order wave functions have not been calculated .    in this paper we focus on the calculation of the leading order wave functions of @xmath6 decay by using the light cone sum rule in the effective theory of heavy quark . as an important application , @xmath1 is extracted . in section 2\\n, the h...\"}, {'role': 'assistant', 'content': '@xmath0 decay is studied in the effective theory of heavy quark with infinite mass limit . the leading order heavy flavor - spin independent universal wave functions which parametrize the relevant matrix elements are evaluated via light cone sum rule method in the effective theory . \\n the important quark mixing matrix element @xmath1 is then extracted via @xmath2 decay mode .    \\n # 1@xmath3#1'}]}, {'messages': [{'role': 'system', 'content': 'You are a helpful research assistant that summarizes scientific papers.'}, {'role': 'user', 'content': 'Summarize the following research paper:\\n\\nlight bridges ( lbs ) are bright structures in the otherwise dark umbra that often exhibit a granular - like morphology @xcite .\\nthey represent a discontinuity or interruption in the regular umbral field @xcite .\\nlbs are known to harbor weak and inclined fields @xcite , but their origin and magnetic nature is still a matter of debate @xcite .\\none of the reasons that make lbs interesting is their chromospheric activity , seen as surges in h@xmath1 @xcite , localized brightenings in h filtergrams @xcite , and brightness enhancements in the upper chromosphere and transition region @xcite .\\nthe stressed magnetic configuration associated with lbs is perceived to be responsible for this activity , but the precise relationship , if any , is yet to be established .\\nunfortunately , there is a lack of simultaneous vector magnetic field measurements in the photosphere to diagnose these events .    here\\nwe analyze _ hinode _ spectropolarimetric observations and h filtergrams of a sunspot lb in an attempt to relate its chromospheric activity to the photospheric magnetic field .\\nwe discover patches of supersonic downflows in the photospheric layers of the lb and show that some of them are associated with strong h brightness enhancements .\\ninterestingly , the supersonic flows produce spectral signatures never seen before in lbs .\\non 2007 may 1 , the leading spot of noaa active region 10953 was observed with _ hinode _\\n@xcite at a heliocentric angle of 8@xmath2 ( @xmath3 ) .\\nbetween 10:46 and 12:25 ut , the _ hinode _\\nspectropolarimeter @xcite recorded the four stokes profiles of the iron lines at 630 nm with a spectral sampling of 21.55 m , a pixel size of 016 , and an exposure time of 4.8  s per slit position ( normal map mode ) .\\nthe observations were corrected for dark current , flat field , thermal flexures , and instrumental polarization using routines included in the solarsoft package .\\nsimultaneously , the broadband filter imager of _ hinode _ took h filtergrams with a cadence of 1 minute to monitor the chromosphere of the lb .\\nthe effective pixel size of the ca images is 011 .\\n[ sunspot_image ]\\nthe left panel of figure  [ sunspot_image ] shows a continuum map of the spot and the lb . we have inverted the observed stokes profiles using the sir code ( stokes inversion based on response functions ; * ? ? ?\\nsir computes perturbations in the physical quantities at specific locations across the optical depth grid called _ nodes _ , and then carries out an interpolation to yield values at all grid points . to determine the global structure of the lb and the surroundings\\n, we performed a one - component inversion setting the magnetic and dynamic parameters to be constant with depth .\\nthe temperature stratification was perturbed with two nodes .\\na total of 9 parameters were retrieved from the observed profiles , including height - independent micro- and macro - turbulent velocities and a stray - light factor .\\nthe three components of the vector magnetic field ( ...'}, {'role': 'assistant', 'content': 'we report the discovery of supersonic downflows in a sunspot light bridge using measurements taken with the spectropolarimeter on board the _ hinode _ satellite . \\n the downflows occur in small patches close to regions where the vector magnetic field changes orientation rapidly , and are associated with anomalous circular polarization profiles . \\n an inversion of the observed stokes spectra reveals velocities of up to 10  km  s@xmath0 , making them the strongest photospheric flows ever measured in light bridges . \\n some ( but not all ) of the downflowing patches are cospatial and cotemporal with brightness enhancements in chromospheric h filtergrams . \\n we suggest that these flows are due to magnetic reconnection in the upper photosphere / lower chromosphere , although other mechanisms can not be ruled out .'}]}]\n"
     ]
    }
   ],
   "source": [
    "print(formatted_data[:2])  # Display first 2 formatted examples"
   ]
  },
  {
   "cell_type": "code",
   "execution_count": 18,
   "id": "9bb724f6",
   "metadata": {},
   "outputs": [
    {
     "name": "stdout",
     "output_type": "stream",
     "text": [
      "✅ Dataset saved as scientific_summarization_chat.json\n"
     ]
    }
   ],
   "source": [
    "# Save to JSON for training\n",
    "with open(\"scientific_summarization_chat.json\", \"w\", encoding=\"utf-8\") as f:\n",
    "    for item in formatted_data:\n",
    "        f.write(json.dumps(item) + \"\\n\")\n",
    "\n",
    "print(\"✅ Dataset saved as scientific_summarization_chat.json\")\n"
   ]
  },
  {
   "cell_type": "code",
   "execution_count": null,
   "id": "e91b54d6",
   "metadata": {},
   "outputs": [],
   "source": []
  }
 ],
 "metadata": {
  "kernelspec": {
   "display_name": "fineenv",
   "language": "python",
   "name": "python3"
  },
  "language_info": {
   "codemirror_mode": {
    "name": "ipython",
    "version": 3
   },
   "file_extension": ".py",
   "mimetype": "text/x-python",
   "name": "python",
   "nbconvert_exporter": "python",
   "pygments_lexer": "ipython3",
   "version": "3.13.2"
  }
 },
 "nbformat": 4,
 "nbformat_minor": 5
}
